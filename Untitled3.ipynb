{
  "nbformat": 4,
  "nbformat_minor": 0,
  "metadata": {
    "colab": {
      "provenance": [],
      "authorship_tag": "ABX9TyPSA1/4TrRvJBsI8PcC1GC7",
      "include_colab_link": true
    },
    "kernelspec": {
      "name": "python3",
      "display_name": "Python 3"
    },
    "language_info": {
      "name": "python"
    }
  },
  "cells": [
    {
      "cell_type": "markdown",
      "metadata": {
        "id": "view-in-github",
        "colab_type": "text"
      },
      "source": [
        "<a href=\"https://colab.research.google.com/github/shashankshetty82854/Employee-Management/blob/main/Untitled3.ipynb\" target=\"_parent\"><img src=\"https://colab.research.google.com/assets/colab-badge.svg\" alt=\"Open In Colab\"/></a>"
      ]
    },
    {
      "cell_type": "code",
      "execution_count": null,
      "metadata": {
        "id": "l5r2juq9fWMc"
      },
      "outputs": [],
      "source": []
    },
    {
      "cell_type": "markdown",
      "source": [
        "**Employee Management Project** - Shashank Shetty"
      ],
      "metadata": {
        "id": "wNxkF_lvfYXp"
      }
    },
    {
      "cell_type": "code",
      "source": [
        "<%@page  import=\"java.sql.*\" %>\n",
        "<%\n",
        "\n",
        "\n",
        "\t\t\t\tif(request.getParameter(\"r\")!=null)\n",
        "\t\t\t\t{\n",
        "\t\t\t\t\tint id = Integer.parseInt(request.getParameter(\"r\"));\n",
        "\n",
        "\t\t\t\ttry{\n",
        "\t\t\t\t\tDriverManager.registerDriver(new com.mysql.cj.jdbc.Driver());\n",
        "\t\t\t\t\tString url = \"jdbc:mysql://localhost:3306/emp1\";\n",
        "\t\t\t\t\tConnection con = DriverManager.getConnection(url,\"root\",\"abc123\");\n",
        "\t\t\t\t\tString sql = \"delete from employee where id=?\";\n",
        "\t\t\t\t\t\tPreparedStatement pst = con.prepareStatement(sql);\n",
        "\t\t\t\t\t\tpst.setInt(1,id);\n",
        "\t\t\t\t\t\tlong ans = pst.executeUpdate();\n",
        "\t\t\t\t\t\tif(ans==1)\n",
        "\t\t\t\t\t\t\tout.println(\"Record Deleted\");\n",
        "\t\t\t\t\t\telse\n",
        "\t\t\t\t\t\t\tout.println(id +\" Does Not Exists!\");\n",
        "\t\t\t\t\t\t\tcon.close();\n",
        "\n",
        "\n",
        "\t\t\t\t\t}catch(SQLException se){\n",
        "\t\t\t\t\t\tout.println(\"Issue \" +se);\n",
        "\t\t\t\t\t}\n",
        "\t\t\t\t}\n",
        "\t\t\t%>\n",
        "<html>\n",
        "\t<head>\n",
        "\t\t<title>Employee App</title>\n",
        "\t\t<style>\n",
        "\t\t\t\t\tbody{background-color: \trgb(166, 255, 206);}\n",
        "\n",
        "\t\t\t*{font-size:40px;}\n",
        "\t\t\t*{font-size:40px; font-family:Book Antiqua;}\n",
        "\n",
        "\n",
        "\t\t\t.nav a{color:white; text-decoration:none; margin:5%;}\n",
        "\t\t</style>\n",
        "\t</head>\n",
        "\t<body>\n",
        "\t<center>\n",
        "\t\t\t\t<div class=\"nav\">\n",
        "\n",
        "\n",
        "\t\t\t\t</div>\n",
        "\t\t\t\t<h1 style=\"border: 4px solid black; width: 70%;\" style=\"border: 4px solid black; width: 70%;\">View page!</h1 style=\"border: 4px solid black; width: 70%;\" style=\"border: 4px solid black; width: 70%;\">\n",
        "\t\t\t\t<table border=\"3\" style=\"width:50%;\">\n",
        "\t\t\t\t\t<tr>\n",
        "\t\t\t\t\t\t<th>id</th>\n",
        "\t\t\t\t\t\t<th>Name</th>\n",
        "\t\t\t\t\t\t<th>salary</th>\n",
        "\t\t\t\t\t\t<th>Delete</th>\n",
        "\t\t\t\t\t</tr>\n",
        "\n",
        "\t\t<%\n",
        "\t\t\ttry\n",
        "\t\t\t{\n",
        "\t\t\t\tDriverManager.registerDriver(new com.mysql.cj.jdbc.Driver());\n",
        "\t\t\t\tString url = \"jdbc:mysql://localhost:3306/emp1\";\n",
        "\t\t\t\tConnection con = DriverManager.getConnection(url,\"root\",\"abc123\");\n",
        "\t\t\t\t\t\tString sql = \"Select * from employee\";\n",
        "\t\t\t\t\t\tStatement stmt = con.createStatement();\n",
        "\t\t\t\t\t\tResultSet rs = stmt.executeQuery(sql);\n",
        "\t\t\t\t\t\twhile(rs.next())\n",
        "\t\t\t\t\t\t{\n",
        "\t\t\t\t\t\t\tint id = rs.getInt(1);\n",
        "\t\t\t\t\t\t\tString name = rs.getString(2);\n",
        "\t\t\t\t\t\t\tint salary = rs.getInt(3);\n",
        "\n",
        "\t\t%>\n",
        "\t\t\t\t\t\t<tr style=\"text-align:center;\">\n",
        "\t\t\t\t\t\t\t<td><%=id%></td>\n",
        "\t\t\t\t\t\t\t<td><%=name%></td>\n",
        "\t\t\t\t\t\t\t<td><%=salary%></td>\n",
        "\t\t\t\t\t\t\t<td><a href=\"?r=<%=id%>\" onclick=\"return confirm('Are You Sure?')\">Delete</a></td>\n",
        "\t\t\t</tr>\n",
        "\t\t\t<%\n",
        "\t\t\t\t\t\t}\n",
        "\t\t\t}\n",
        "\t\t\tcatch(SQLException err)\n",
        "\t\t\t{\n",
        "\t\t\t\tout.println(\"issue\" + err);\n",
        "\t\t\t}\n",
        "\t\t%>\n",
        "\n",
        "\n",
        "\n",
        "\n",
        "\t\t</table>\n",
        "\t\t\t\t\t<br/><br/>\n",
        "\t\t\t\t\t<a href=\"index.jsp\">Home</a>\n",
        "\t</center>\n",
        "\t</body>\n",
        "</html>\n",
        "\n",
        "\n",
        "\n",
        "\n",
        "\n",
        "\n",
        "\n",
        "\n"
      ],
      "metadata": {
        "id": "THHMDJTYfZrb"
      },
      "execution_count": null,
      "outputs": []
    }
  ]
}